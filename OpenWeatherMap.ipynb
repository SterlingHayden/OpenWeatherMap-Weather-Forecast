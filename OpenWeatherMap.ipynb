{
 "cells": [
  {
   "cell_type": "code",
   "execution_count": 10,
   "metadata": {},
   "outputs": [],
   "source": [
    "import pprint\n",
    "import requests\n",
    "import sys"
   ]
  },
  {
   "cell_type": "code",
   "execution_count": 30,
   "metadata": {},
   "outputs": [
    {
     "name": "stdout",
     "output_type": "stream",
     "text": [
      "Morehead City, North Carolina\n"
     ]
    }
   ],
   "source": [
    "api_key = \"9b656c6f5237727cdf1e35288a7afa8c\"\n",
    "\n",
    "loc = [\n",
    "  'Buenos Aires, Argentina',\n",
    "  'Guangzhou, China',\n",
    "  'Wichita, Kansas',\n",
    "  'Niskayuna, New York',\n",
    "  'Gwangmyeong, South Korea',\n",
    "  'Taipei, Taiwan',\n",
    "  'Nanaimo, British Columbia',\n",
    "  'Chennai, India',\n",
    "  'Barrington, Illinois',\n",
    "  'Littleton, Colorado',\n",
    "  'Peterhead, Scotland',\n",
    "  'Vizag, India',\n",
    "  'Des Moines, Iowa',\n",
    "  'Beijing, China',\n",
    "  'Killeen, Texas',\n",
    "  'Morehead City, North Carolina'\n",
    "]\n",
    "\n",
    "city = loc[-1]"
   ]
  },
  {
   "cell_type": "code",
   "execution_count": 31,
   "metadata": {},
   "outputs": [
    {
     "name": "stdout",
     "output_type": "stream",
     "text": [
      "Morehead City, North Carolina:\n",
      "{'clouds': {'all': 16},\n",
      " 'dt': 1720332000,\n",
      " 'dt_txt': '2024-07-07 06:00:00',\n",
      " 'main': {'feels_like': 303.84,\n",
      "          'grnd_level': 1015,\n",
      "          'humidity': 87,\n",
      "          'pressure': 1015,\n",
      "          'sea_level': 1015,\n",
      "          'temp': 300.25,\n",
      "          'temp_kf': 0.59,\n",
      "          'temp_max': 300.25,\n",
      "          'temp_min': 299.66},\n",
      " 'pop': 0.84,\n",
      " 'sys': {'pod': 'n'},\n",
      " 'visibility': 10000,\n",
      " 'weather': [{'description': 'few clouds',\n",
      "              'icon': '02n',\n",
      "              'id': 801,\n",
      "              'main': 'Clouds'}],\n",
      " 'wind': {'deg': 244, 'gust': 9.26, 'speed': 5.88}}\n"
     ]
    }
   ],
   "source": [
    "geo_URL = 'http://api.openweathermap.org/geo/1.0/direct'\n",
    "\n",
    "### add below loop when finished \n",
    "### for city in loc:\n",
    "geo = f'{geo_URL}?q={city}&limit=5&appid={api_key}'\n",
    "resp = requests.get( geo )\n",
    "\n",
    "if resp.status_code != 200: # Failure?\n",
    "    print( f'Error geocoding {city}: {resp.status_code}' )\n",
    "    sys.exit( 1 )\n",
    "\n",
    "# OpenWeatherMap returns a list of matching cities, up to the limit specified\n",
    "# in the API call; even if you only ask for one city (limit=5), it's still\n",
    "# returned as a 1-element list\n",
    "\n",
    "if len( resp.json() ) == 0: # No such city?\n",
    "    print( f'Error locating city {city}; {resp.status_code}' )\n",
    "    sys.exit( 2 )\n",
    "\n",
    "json = resp.json()\n",
    "if type( json ) == list: # List of cities?\n",
    "    lat = json[ 0 ][ 'lat' ]\n",
    "    lon = json[ 0 ][ 'lon' ]\n",
    "else: # Unknown city?\n",
    "    print( f'Error, invalid data returned for city {city}, {resp.status_code}' )\n",
    "    sys.exit( 3 )\n",
    "\n",
    "# Use Peterhead's latitude and longitude to get its 5-day forecast in 3-hour\n",
    "# blocks\n",
    "\n",
    "forecast_URL = 'http://api.openweathermap.org/data/2.5/forecast'\n",
    "forecast = f'{forecast_URL}?lat={lat}&lon={lon}&appid={api_key}'\n",
    "resp = requests.get( forecast )\n",
    "\n",
    "if resp.status_code != 200: # Failure?\n",
    "    print( f'Error retrieving data: {resp.status_code}' )\n",
    "    sys.exit( 4 )\n",
    "\n",
    "# Pretty-print the resulting JSON forecast for the first 3 hour block\n",
    "\n",
    "print( f'{city}:' )\n",
    "data = resp.json()\n",
    "printer = pprint.PrettyPrinter( width=80, compact=True )\n",
    "printer.pprint( data[ 'list' ][ 0 ] )"
   ]
  },
  {
   "cell_type": "code",
   "execution_count": 34,
   "metadata": {},
   "outputs": [
    {
     "name": "stdout",
     "output_type": "stream",
     "text": [
      "299.79\n"
     ]
    }
   ],
   "source": [
    "forecast_data = data[ 'list' ][ 0 ]\n",
    "temp_max = forecast_data['main']['temp_max']\n",
    "temp_min = forecast_data['main']['temp_min']\n",
    "print(temp_max)"
   ]
  },
  {
   "cell_type": "code",
   "execution_count": 38,
   "metadata": {},
   "outputs": [
    {
     "name": "stdout",
     "output_type": "stream",
     "text": [
      "2024-07-07 06:00:00\n",
      "2024-07-07 09:00:00\n",
      "2024-07-07 12:00:00\n",
      "2024-07-07 15:00:00\n",
      "2024-07-07 18:00:00\n",
      "2024-07-07 21:00:00\n",
      "2024-07-08 00:00:00\n",
      "2024-07-08 03:00:00\n",
      "2024-07-08 06:00:00\n",
      "2024-07-08 09:00:00\n",
      "2024-07-08 12:00:00\n",
      "2024-07-08 15:00:00\n",
      "2024-07-08 18:00:00\n",
      "2024-07-08 21:00:00\n",
      "2024-07-09 00:00:00\n",
      "2024-07-09 03:00:00\n",
      "2024-07-09 06:00:00\n",
      "2024-07-09 09:00:00\n",
      "2024-07-09 12:00:00\n",
      "2024-07-09 15:00:00\n",
      "2024-07-09 18:00:00\n",
      "2024-07-09 21:00:00\n",
      "2024-07-10 00:00:00\n",
      "2024-07-10 03:00:00\n"
     ]
    }
   ],
   "source": [
    "for i in range(24):\n",
    "    forecast_data = data[ 'list' ][ i ]\n",
    "    print(forecast_data['dt_txt'])"
   ]
  }
 ],
 "metadata": {
  "kernelspec": {
   "display_name": "ds",
   "language": "python",
   "name": "python3"
  },
  "language_info": {
   "codemirror_mode": {
    "name": "ipython",
    "version": 3
   },
   "file_extension": ".py",
   "mimetype": "text/x-python",
   "name": "python",
   "nbconvert_exporter": "python",
   "pygments_lexer": "ipython3",
   "version": "3.12.3"
  }
 },
 "nbformat": 4,
 "nbformat_minor": 2
}
